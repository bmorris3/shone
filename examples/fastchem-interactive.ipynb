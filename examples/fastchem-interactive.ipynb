{
 "cells": [
  {
   "cell_type": "markdown",
   "id": "e30222af-8d21-48f7-825d-96ce91800d57",
   "metadata": {},
   "source": [
    "# Interactive FastChem Demo"
   ]
  },
  {
   "cell_type": "markdown",
   "id": "84b53559-a4f1-4027-9d0b-fa4fdc8afd91",
   "metadata": {},
   "source": [
    "Define an atmosphere's temperature and pressure:"
   ]
  },
  {
   "cell_type": "code",
   "execution_count": null,
   "id": "25d06d33-292b-4ee6-9b3a-3ed5bd0812a7",
   "metadata": {},
   "outputs": [],
   "source": [
    "import numpy as np\n",
    "import matplotlib.pyplot as plt\n",
    "from ipywidgets import interactive, widgets, VBox, HBox\n",
    "from shone.chemistry.fastchem import FastchemWrapper\n",
    "\n",
    "pressure = np.geomspace(1e-6, 1e2, 15)\n",
    "temperature = 2300 * (np.geomspace(1e-6, 10, pressure.size) / 0.1) ** 0.1\n",
    "\n",
    "ax = plt.gca()\n",
    "ax.semilogy(temperature, pressure)\n",
    "ax.invert_yaxis()\n",
    "ax.set_xlabel('Temperature [K]')\n",
    "ax.set_ylabel('Pressure [bar]')\n",
    "ax.set_title('A T-P profile');"
   ]
  },
  {
   "cell_type": "markdown",
   "id": "ec464425-be96-4663-9e35-06f260810ef3",
   "metadata": {},
   "source": [
    "We create a FastChem wrapper like this, with default values:"
   ]
  },
  {
   "cell_type": "code",
   "execution_count": null,
   "id": "f2aa6883-4d0c-4992-94fe-12a604ee58d2",
   "metadata": {},
   "outputs": [],
   "source": [
    "chem = FastchemWrapper(temperature, pressure, metallicity=0.7, c_to_o_ratio=1.2)"
   ]
  },
  {
   "cell_type": "markdown",
   "id": "9fd5e661-1226-4bf8-a224-ceaa5d9450f0",
   "metadata": {},
   "source": [
    "Now let's make an interactive explorer to plot abundance as a function of pressure for the species in FastChem. With the T-P profile set, this allows varying the metallicity and C/O ratio, plotting either the VMR or the MMR, given a free mean molecular weight.\n",
    "<br><br>\n",
    "<b>Note how for each combination of parameters, the chemistry is re-computed on the fly!</b>"
   ]
  },
  {
   "cell_type": "code",
   "execution_count": null,
   "id": "5d6c223c-a1e0-4b07-9282-32d9af1e65b9",
   "metadata": {},
   "outputs": [],
   "source": [
    "table = chem.get_species()\n",
    "\n",
    "def plot_vmr(log_metallicity, c_to_o_ratio, species='O1Ti1', mmr=False, mean_molecular_weight=2.4):\n",
    "    chem.metallicity = 10 ** log_metallicity\n",
    "    chem.c_to_o_ratio = c_to_o_ratio\n",
    "    \n",
    "    if mmr: \n",
    "        mmr = chem.mmr_mmw() / mean_molecular_weight\n",
    "        mixing_ratio = mmr[:, table.loc[species]['index']]\n",
    "        xlabel = 'MMR'\n",
    "    else:\n",
    "        vmr = chem.vmr()\n",
    "        mixing_ratio = vmr[:, table.loc[species]['index']]\n",
    "        xlabel = 'VMR'\n",
    "\n",
    "    plt.loglog(mixing_ratio, pressure)\n",
    "    ax = plt.gca()\n",
    "    ax.set(\n",
    "        xlabel=xlabel,\n",
    "        ylabel='Pressure [bar]'\n",
    "    )\n",
    "    ax.invert_yaxis()\n",
    "    \n",
    "dropdown_options = sorted(list(zip(\n",
    "    list(table['name']), list(table['symbol'])\n",
    ")), key=lambda x: x[0])[5:]\n",
    "\n",
    "widget = interactive(\n",
    "    plot_vmr,\n",
    "    log_metallicity=(-1, 1, 0.1),\n",
    "    c_to_o_ratio=(0.1, 1.2, 0.01),\n",
    "    species=dropdown_options,\n",
    "    mean_molecular_weight=(1, 10, 1),#Note that this is inactive if VMR is plotted.\n",
    "\n",
    ")\n",
    "\n",
    "controls = VBox(widget.children[:-1])\n",
    "output = widget.children[-1]\n",
    "display(HBox([output, controls]))"
   ]
  }
 ],
 "metadata": {
  "kernelspec": {
   "display_name": "Python 3 (ipykernel)",
   "language": "python",
   "name": "python3"
  },
  "language_info": {
   "codemirror_mode": {
    "name": "ipython",
    "version": 3
   },
   "file_extension": ".py",
   "mimetype": "text/x-python",
   "name": "python",
   "nbconvert_exporter": "python",
   "pygments_lexer": "ipython3",
   "version": "3.11.5"
  }
 },
 "nbformat": 4,
 "nbformat_minor": 5
}
